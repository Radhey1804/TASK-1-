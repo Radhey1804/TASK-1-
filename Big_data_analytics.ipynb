{
  "nbformat": 4,
  "nbformat_minor": 0,
  "metadata": {
    "colab": {
      "provenance": [],
      "authorship_tag": "ABX9TyMfPFtlTty72gEV4vDUL+6q",
      "include_colab_link": true
    },
    "kernelspec": {
      "name": "python3",
      "display_name": "Python 3"
    },
    "language_info": {
      "name": "python"
    }
  },
  "cells": [
    {
      "cell_type": "markdown",
      "metadata": {
        "id": "view-in-github",
        "colab_type": "text"
      },
      "source": [
        "<a href=\"https://colab.research.google.com/github/Radhey1804/TASK-1-/blob/main/Big_data_analytics.ipynb\" target=\"_parent\"><img src=\"https://colab.research.google.com/assets/colab-badge.svg\" alt=\"Open In Colab\"/></a>"
      ]
    },
    {
      "cell_type": "code",
      "execution_count": null,
      "metadata": {
        "id": "9WI7cYgfLAWg"
      },
      "outputs": [],
      "source": [
        "\n",
        "from pyspark.sql import SparkSession\n",
        "from pyspark.sql.functions import col, length, to_date, count, desc"
      ]
    },
    {
      "cell_type": "code",
      "source": [
        "spark = SparkSession.builder \\\n",
        "    .appName(\"Social Media Big Data Analysis\") \\\n",
        "    .getOrCreate()"
      ],
      "metadata": {
        "id": "w5jCXrwoQGU1"
      },
      "execution_count": null,
      "outputs": []
    },
    {
      "cell_type": "code",
      "source": [
        "file_path = \"synthetic_social_media_data.csv\"  # Adjust if needed\n",
        "df = spark.read.csv(file_path, header=True, inferSchema=True)\n"
      ],
      "metadata": {
        "id": "mQIZOvquQ02H"
      },
      "execution_count": null,
      "outputs": []
    },
    {
      "cell_type": "code",
      "source": [
        "print(\"\\nSchema:\")\n",
        "df.printSchema()\n",
        "\n",
        "print(\"\\nSample Rows:\")\n",
        "df.show(5)\n",
        "\n",
        "print(\"\\nNumber of Rows:\")\n",
        "print(df.count())\n"
      ],
      "metadata": {
        "colab": {
          "base_uri": "https://localhost:8080/"
        },
        "id": "yAf9L19-Q3fV",
        "outputId": "82472b93-51d7-4008-af8f-0e6f0ff0d77c"
      },
      "execution_count": null,
      "outputs": [
        {
          "output_type": "stream",
          "name": "stdout",
          "text": [
            "\n",
            "Schema:\n",
            "root\n",
            " |-- Post ID: string (nullable = true)\n",
            " |-- Post Content: string (nullable = true)\n",
            " |-- Sentiment Label: string (nullable = true)\n",
            " |-- Number of Likes: integer (nullable = true)\n",
            " |-- Number of Shares: integer (nullable = true)\n",
            " |-- Number of Comments: integer (nullable = true)\n",
            " |-- User Follower Count: string (nullable = true)\n",
            " |-- Post Date and Time: string (nullable = true)\n",
            " |-- Post Type: string (nullable = true)\n",
            " |-- Language: string (nullable = true)\n",
            "\n",
            "\n",
            "Sample Rows:\n",
            "+--------------------+--------------------+---------------+---------------+----------------+------------------+-------------------+------------------+---------+--------+\n",
            "|             Post ID|        Post Content|Sentiment Label|Number of Likes|Number of Shares|Number of Comments|User Follower Count|Post Date and Time|Post Type|Language|\n",
            "+--------------------+--------------------+---------------+---------------+----------------+------------------+-------------------+------------------+---------+--------+\n",
            "|aa391375-7355-44b...|Word who nor cent...|           NULL|           NULL|            NULL|              NULL|               NULL|              NULL|     NULL|    NULL|\n",
            "|Already forget ma...|             Neutral|            157|            243|              64|              4921|2024-01-10 00:14:21|             video|       fr|    NULL|\n",
            "|1c9ec98d-437a-48d...|Begin administrat...|           NULL|           NULL|            NULL|              NULL|               NULL|              NULL|     NULL|    NULL|\n",
            "|Head when central...|                NULL|           NULL|           NULL|            NULL|              NULL|               NULL|              NULL|     NULL|    NULL|\n",
            "|Watch maybe subje...|            Positive|            166|             49|             121|               612|2024-02-03 00:20:11|             image|       es|    NULL|\n",
            "+--------------------+--------------------+---------------+---------------+----------------+------------------+-------------------+------------------+---------+--------+\n",
            "only showing top 5 rows\n",
            "\n",
            "\n",
            "Number of Rows:\n",
            "5112\n"
          ]
        }
      ]
    },
    {
      "cell_type": "code",
      "source": [
        "if 'Time' in df.columns:\n",
        "    df = df.withColumn(\"Date\", to_date(col(\"Time\")))"
      ],
      "metadata": {
        "id": "XZv390CtQ76e"
      },
      "execution_count": null,
      "outputs": []
    },
    {
      "cell_type": "code",
      "source": [
        "if 'Text' in df.columns:\n",
        "    df = df.withColumn(\"TextLength\", length(col(\"Text\")))"
      ],
      "metadata": {
        "id": "etb-MAaBRqQg"
      },
      "execution_count": null,
      "outputs": []
    },
    {
      "cell_type": "code",
      "source": [
        "if 'Sentiment' in df.columns:\n",
        "    print(\"\\nSentiment Distribution:\")\n",
        "    df.groupBy(\"Sentiment\").count().orderBy(desc(\"count\")).show()"
      ],
      "metadata": {
        "id": "C_mMTFKBRteQ"
      },
      "execution_count": null,
      "outputs": []
    },
    {
      "cell_type": "code",
      "source": [
        "if 'Platform' in df.columns:\n",
        "    print(\"\\nPosts per Platform:\")\n",
        "    df.groupBy(\"Platform\").count().orderBy(desc(\"count\")).show()"
      ],
      "metadata": {
        "id": "rL_Haf0lRAqx"
      },
      "execution_count": null,
      "outputs": []
    },
    {
      "cell_type": "code",
      "source": [
        "if 'Sentiment' in df.columns and 'TextLength' in df.columns:\n",
        "    print(\"\\nAverage Text Length by Sentiment:\")\n",
        "    df.groupBy(\"Sentiment\").avg(\"TextLength\").show()\n"
      ],
      "metadata": {
        "id": "_3KJi_adREOj"
      },
      "execution_count": null,
      "outputs": []
    },
    {
      "cell_type": "code",
      "source": [
        "if 'UserId' in df.columns:\n",
        "    print(\"\\nTop 10 Active Users:\")\n",
        "    df.groupBy(\"UserId\").count().orderBy(desc(\"count\")).show(10)\n"
      ],
      "metadata": {
        "id": "f4xsiuCRRH6u"
      },
      "execution_count": null,
      "outputs": []
    },
    {
      "cell_type": "code",
      "source": [
        "spark.stop()"
      ],
      "metadata": {
        "id": "GEKDO2u7RKeW"
      },
      "execution_count": null,
      "outputs": []
    },
    {
      "cell_type": "markdown",
      "source": [
        "- This project demonstrates the power of big data tools like PySpark to efficiently process and analyze large-scale social media data. Through this analysis, we derived key insights:\n",
        "\n",
        "- Sentiment Analysis: The dataset revealed the distribution of user sentiments (e.g., positive, negative, neutral), offering a high-level view of public mood on social platforms.\n",
        "\n",
        "- Platform Engagement: Twitter and Reddit usage patterns were explored, highlighting which platform had more active participation."
      ],
      "metadata": {
        "id": "BcU0udjoS33X"
      }
    },
    {
      "cell_type": "code",
      "source": [],
      "metadata": {
        "id": "o61o-9ZWTJE6"
      },
      "execution_count": null,
      "outputs": []
    }
  ]
}